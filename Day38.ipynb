{
 "cells": [
  {
   "cell_type": "code",
   "execution_count": 1,
   "metadata": {},
   "outputs": [],
   "source": [
    "import numpy as np\n",
    "import matplotlib.pyplot as plt\n",
    "from sklearn import datasets, linear_model\n",
    "from sklearn.model_selection import train_test_split\n",
    "from sklearn.metrics import mean_squared_error, r2_score, accuracy_score"
   ]
  },
  {
   "cell_type": "code",
   "execution_count": 2,
   "metadata": {},
   "outputs": [
    {
     "name": "stdout",
     "output_type": "stream",
     "text": [
      "Data shape:  (442, 1)\n"
     ]
    }
   ],
   "source": [
    "# 讀取糖尿病資料集\n",
    "diabetes = datasets.load_diabetes()\n",
    "\n",
    "# 為方便視覺化，我們只使用資料集中的 1 個 feature (column)\n",
    "X = diabetes.data[:, np.newaxis, 2]\n",
    "print(\"Data shape: \", X.shape) # 可以看見有 442 筆資料與我們取出的其中一個 feature\n",
    "\n",
    "# 切分訓練集/測試集\n",
    "x_train, x_test, y_train, y_test = train_test_split(X, diabetes.target, test_size=0.1, random_state=4)\n",
    "\n",
    "# 建立一個線性回歸模型\n",
    "regr = linear_model.LinearRegression()\n",
    "\n",
    "# 將訓練資料丟進去模型訓練\n",
    "regr.fit(x_train, y_train)\n",
    "\n",
    "# 將測試資料丟進模型得到預測結果\n",
    "y_pred = regr.predict(x_test)"
   ]
  },
  {
   "cell_type": "code",
   "execution_count": 3,
   "metadata": {},
   "outputs": [
    {
     "name": "stdout",
     "output_type": "stream",
     "text": [
      "Coefficients:  [934.05431907]\n",
      "Mean squared error: 2569.69\n"
     ]
    }
   ],
   "source": [
    "# 可以看回歸模型的參數值\n",
    "print('Coefficients: ', regr.coef_)\n",
    "\n",
    "# 預測值與實際值的差距，使用 MSE\n",
    "print(\"Mean squared error: %.2f\"\n",
    "      % mean_squared_error(y_test, y_pred))"
   ]
  },
  {
   "cell_type": "code",
   "execution_count": 4,
   "metadata": {},
   "outputs": [
    {
     "data": {
      "image/png": "[encoded data removed]",
      "text/plain": [
       "<Figure size 432x288 with 1 Axes>"
      ]
     },
     "metadata": {
      "needs_background": "light"
     },
     "output_type": "display_data"
    }
   ],
   "source": [
    "# 畫出回歸模型與實際資料的分佈\n",
    "plt.scatter(x_test, y_test,  color='black')\n",
    "plt.plot(x_test, y_pred, color='blue', linewidth=3)\n",
    "plt.show()"
   ]
  },
  {
   "cell_type": "code",
   "execution_count": 5,
   "metadata": {},
   "outputs": [
    {
     "name": "stderr",
     "output_type": "stream",
     "text": [
      "/Users/sourchen/opt/anaconda3/lib/python3.8/site-packages/sklearn/linear_model/_logistic.py:762: ConvergenceWarning: lbfgs failed to converge (status=1):\n",
      "STOP: TOTAL NO. of ITERATIONS REACHED LIMIT.\n",
      "\n",
      "Increase the number of iterations (max_iter) or scale the data as shown in:\n",
      "    https://scikit-learn.org/stable/modules/preprocessing.html\n",
      "Please also refer to the documentation for alternative solver options:\n",
      "    https://scikit-learn.org/stable/modules/linear_model.html#logistic-regression\n",
      "  n_iter_i = _check_optimize_result(\n"
     ]
    }
   ],
   "source": [
    "# 讀取鳶尾花資料集\n",
    "iris = datasets.load_iris()\n",
    "\n",
    "# 切分訓練集/測試集\n",
    "x_train, x_test, y_train, y_test = train_test_split(iris.data, iris.target, test_size=0.1, random_state=4)\n",
    "\n",
    "# 建立模型\n",
    "logreg = linear_model.LogisticRegression()\n",
    "\n",
    "# 訓練模型\n",
    "logreg.fit(x_train, y_train)\n",
    "\n",
    "# 預測測試集\n",
    "y_pred = logreg.predict(x_test)"
   ]
  },
  {
   "cell_type": "code",
   "execution_count": 6,
   "metadata": {},
   "outputs": [
    {
     "name": "stdout",
     "output_type": "stream",
     "text": [
      "Accuracy:  0.9333333333333333\n"
     ]
    }
   ],
   "source": [
    "acc = accuracy_score(y_test, y_pred)\n",
    "print(\"Accuracy: \", acc)"
   ]
  },
  {
   "cell_type": "markdown",
   "metadata": {},
   "source": [
    "### 試著使用 sklearn datasets 的其他資料集 (wine, boston, ...)，來訓練自己的線性迴歸模型。"
   ]
  },
  {
   "cell_type": "code",
   "execution_count": 7,
   "metadata": {},
   "outputs": [],
   "source": [
    "wine = datasets.load_wine()\n",
    "boston = datasets.load_boston()\n",
    "breast_cancer = datasets.load_breast_cancer()"
   ]
  },
  {
   "cell_type": "code",
   "execution_count": 8,
   "metadata": {},
   "outputs": [
    {
     "name": "stdout",
     "output_type": "stream",
     "text": [
      "Data shape:  (178, 1)\n"
     ]
    }
   ],
   "source": [
    "# 為方便視覺化，我們只使用資料集中的 1 個 feature (column)\n",
    "X = wine.data[:, np.newaxis, 2]\n",
    "print(\"Data shape: \", X.shape) # 可以看見有 442 筆資料與我們取出的其中一個 feature\n",
    "\n",
    "# 切分訓練集/測試集\n",
    "x_train, x_test, y_train, y_test = train_test_split(X, wine.target, test_size=0.1, random_state=4)\n",
    "\n",
    "# 建立一個線性回歸模型\n",
    "regr = linear_model.LinearRegression()\n",
    "\n",
    "# 將訓練資料丟進去模型訓練\n",
    "regr.fit(x_train, y_train)\n",
    "\n",
    "# 將測試資料丟進模型得到預測結果\n",
    "y_pred = regr.predict(x_test)"
   ]
  },
  {
   "cell_type": "code",
   "execution_count": 9,
   "metadata": {},
   "outputs": [
    {
     "name": "stdout",
     "output_type": "stream",
     "text": [
      "Coefficients:  [-0.17000092]\n",
      "Mean squared error: 0.66\n"
     ]
    }
   ],
   "source": [
    "# 可以看回歸模型的參數值\n",
    "print('Coefficients: ', regr.coef_)\n",
    "\n",
    "# 預測值與實際值的差距，使用 MSE\n",
    "print(\"Mean squared error: %.2f\"\n",
    "      % mean_squared_error(y_test, y_pred))"
   ]
  },
  {
   "cell_type": "code",
   "execution_count": 10,
   "metadata": {},
   "outputs": [
    {
     "data": {
      "image/png": "[encoded data removed]",
      "text/plain": [
       "<Figure size 432x288 with 1 Axes>"
      ]
     },
     "metadata": {
      "needs_background": "light"
     },
     "output_type": "display_data"
    }
   ],
   "source": [
    "# 畫出回歸模型與實際資料的分佈\n",
    "plt.scatter(x_test, y_test,  color='black')\n",
    "plt.plot(x_test, y_pred, color='blue', linewidth=3)\n",
    "plt.show()"
   ]
  },
  {
   "cell_type": "code",
   "execution_count": 13,
   "metadata": {},
   "outputs": [
    {
     "data": {
      "text/plain": [
       "array([22.3, 12.1, 28.6, 15.6, 19.2, 27.5, 32. , 20.2, 32.4, 18.4, 19.9,\n",
       "       29.8, 20.1, 43.5, 24.5, 50. ,  7.2, 19.1, 21.2, 22.6, 22.9, 25. ,\n",
       "       23.3, 17.3, 33. , 17.8, 23.8, 10.9, 18.6, 19.3, 16.7, 28. , 18.2,\n",
       "       29.1, 11.9, 32.7, 18.3, 22.4, 45.4, 31.5, 48.5, 19.8, 41.7, 22.2,\n",
       "       20.3, 20.7, 50. , 11.8, 19.5,  8.7, 23.3, 36.4, 13.3, 24.8, 20.4,\n",
       "       44. , 29. , 39.8, 22.9, 23. , 15.3, 23.7, 30.5, 33.2, 26.4, 50. ,\n",
       "       14.2,  8.1, 16. , 20. ,  8.5, 23.7, 26.4, 18.5, 20. , 50. , 13.4,\n",
       "       13.1, 12.7, 50. , 15.6, 50. , 29.4, 42.8, 21.7, 11.8, 24.8, 19.4,\n",
       "       17.5, 13.4, 13.9, 24.5, 15. , 13.8, 23.1, 12.5, 14.9, 21.9, 18.5,\n",
       "       30.8, 14.6, 23.9, 18.2, 21.7, 13.5, 50. , 23.1, 48.8, 13.8, 20.1,\n",
       "       50. , 34.9,  8.4, 15.2, 23. , 24.7, 25.3, 17.2, 50. , 22.9, 20.2,\n",
       "       17.4, 19.5, 18.5, 14. , 22.6, 14.1, 15.6, 46. , 20.5, 13.5, 10.4,\n",
       "       21.4, 21.6, 23.2, 23. , 17.6, 16.1,  5. ,  8.3, 27.5, 18.7, 21.7,\n",
       "       30.7,  5. , 11.3,  7. , 32.9, 14.6, 12. , 28.1, 18. ,  5.6, 23.6,\n",
       "       24.7, 22.5, 17.7, 13.1, 23.1, 25. , 14.9,  9.7, 22.8, 22. , 23.6,\n",
       "       14.3, 18.8, 19.9, 13.6, 19.4, 16.8, 20. , 43.1, 27.9, 20.1, 19. ,\n",
       "       19.2, 21.7, 33.1, 50. , 33.2, 20.1, 21.1,  8.8, 12.3, 14.5, 23.8,\n",
       "       18.7, 21.8, 21.9, 21.7, 17.1, 23.1, 36.1, 28.2, 11.5, 19. , 22. ,\n",
       "       10.5, 21.4, 16.5, 20.6, 23.3, 23.5, 15. , 26.5, 50. , 10.5, 17.5,\n",
       "       13.6, 17.2, 19.1, 16.4, 20.6, 20.9, 30.1, 20.7, 22.2, 24.6, 25.2,\n",
       "       37.9, 20.1, 29.6, 18.7, 23. , 22.9, 24.6, 24.8, 20.8, 22.4, 18.2,\n",
       "       14.4, 23.2, 13. , 19.7, 21.2, 21.7, 24. , 22. , 20.6, 11.9, 24.3,\n",
       "       23.8, 22.8, 13.3, 25. , 21. , 20.4, 33.1, 48.3, 14.5, 36. , 22.6,\n",
       "       18.4, 18.9, 12.6, 15.2, 24.1, 29.9, 23.9, 31.6, 11.7, 20.3, 16.6,\n",
       "       22.2, 26.6, 36.2, 28.4, 20.8, 15.4, 50. , 18.1, 23.1, 21.5, 13.1,\n",
       "       21.8,  8.5, 15.6, 26.2, 32.2,  9.6, 31.6, 17.8, 34.7, 20. , 21. ,\n",
       "       22.7, 28.7, 23.9, 35.4, 13.2, 18.3, 13.1, 23.1, 20.6,  7. , 13.4,\n",
       "       24.1, 30.1, 20.3, 15.6, 26.6, 15. , 37.2, 27.1, 24.4, 17.8, 19.8,\n",
       "       10.2, 23.1, 37.3, 23.2, 19.1, 19.6, 38.7, 25. , 23.7, 22.8, 16.2,\n",
       "       20.3, 24.3, 21.2, 19.3, 20.6, 21.4, 14.4, 19.9, 16.2, 22.5, 19.1,\n",
       "       17.8, 30.1, 14.8, 35.2, 29. , 25.1, 21.5,  8.3, 22. , 44.8, 24.5,\n",
       "       34.9, 17.2, 33.8, 19.6, 14.1,  8.4, 33.3, 23.4, 21.4, 18.9, 21.2,\n",
       "        7.2, 27.1, 14.5, 10.4, 21.4, 14.1, 10.2, 24.3, 18.6, 18.9, 10.9,\n",
       "       24.4, 19.3, 25. , 36.5, 20.5, 20.4, 19.6, 27.9, 21.1, 26.6, 10.8,\n",
       "       36.2, 34.9, 31.5, 31.7, 34.6, 17.8, 29.8, 35.1, 17.1, 13.4, 37. ,\n",
       "       15.2, 27.5, 18.5, 19.6, 23.2, 32. , 23.4, 28.7, 22. , 13.8, 19.7,\n",
       "       20.9, 17.1, 28.4, 43.8, 22.5, 50. , 50. , 33.4, 17.9, 25. , 22.3,\n",
       "       50. ,  9.5, 10.2, 23.7, 23.8,  7.5, 23.9, 18.4, 20.4, 19.4, 17.4,\n",
       "       12.7, 13.8, 22. , 29.1, 24.7, 20.8, 24.1, 15.4, 19.6, 32.5, 24. ,\n",
       "        7.4, 25. , 15.7, 21.7, 21.2, 11.7, 22.7, 16.8, 21.6, 23.9, 22.1,\n",
       "       20.6, 19.4, 22.6, 29.6, 23.3, 13.8, 33.4, 12.7, 22.2, 25. ,  7.2,\n",
       "       30.3, 12.8, 22.6, 20.5])"
      ]
     },
     "execution_count": 13,
     "metadata": {},
     "output_type": "execute_result"
    }
   ],
   "source": [
    "# 切分訓練集/測試集\n",
    "x_train, x_test, y_train, y_test = train_test_split(boston.data, boston.target, test_size=0.1, random_state=4)\n",
    "\n",
    "# 建立模型\n",
    "logreg = linear_model.LogisticRegression()\n",
    "\n",
    "y_train"
   ]
  },
  {
   "cell_type": "code",
   "execution_count": 15,
   "metadata": {},
   "outputs": [
    {
     "ename": "ValueError",
     "evalue": "Unknown label type: 'continuous'",
     "output_type": "error",
     "traceback": [
      "\u001b[0;31m---------------------------------------------------------------------------\u001b[0m",
      "\u001b[0;31mValueError\u001b[0m                                Traceback (most recent call last)",
      "\u001b[0;32m<ipython-input-15-8f07d6bbeb9a>\u001b[0m in \u001b[0;36m<module>\u001b[0;34m\u001b[0m\n\u001b[1;32m      1\u001b[0m \u001b[0;31m# 訓練模型\u001b[0m\u001b[0;34m\u001b[0m\u001b[0;34m\u001b[0m\u001b[0;34m\u001b[0m\u001b[0m\n\u001b[0;32m----> 2\u001b[0;31m \u001b[0mlogreg\u001b[0m\u001b[0;34m.\u001b[0m\u001b[0mfit\u001b[0m\u001b[0;34m(\u001b[0m\u001b[0mx_train\u001b[0m\u001b[0;34m,\u001b[0m \u001b[0my_train\u001b[0m\u001b[0;34m)\u001b[0m\u001b[0;34m\u001b[0m\u001b[0;34m\u001b[0m\u001b[0m\n\u001b[0m\u001b[1;32m      3\u001b[0m \u001b[0;34m\u001b[0m\u001b[0m\n\u001b[1;32m      4\u001b[0m \u001b[0;31m# 預測測試集\u001b[0m\u001b[0;34m\u001b[0m\u001b[0;34m\u001b[0m\u001b[0;34m\u001b[0m\u001b[0m\n\u001b[1;32m      5\u001b[0m \u001b[0my_pred\u001b[0m \u001b[0;34m=\u001b[0m \u001b[0mlogreg\u001b[0m\u001b[0;34m.\u001b[0m\u001b[0mpredict\u001b[0m\u001b[0;34m(\u001b[0m\u001b[0mx_test\u001b[0m\u001b[0;34m)\u001b[0m\u001b[0;34m\u001b[0m\u001b[0;34m\u001b[0m\u001b[0m\n",
      "\u001b[0;32m~/opt/anaconda3/lib/python3.8/site-packages/sklearn/linear_model/_logistic.py\u001b[0m in \u001b[0;36mfit\u001b[0;34m(self, X, y, sample_weight)\u001b[0m\n\u001b[1;32m   1343\u001b[0m                                    \u001b[0morder\u001b[0m\u001b[0;34m=\u001b[0m\u001b[0;34m\"C\"\u001b[0m\u001b[0;34m,\u001b[0m\u001b[0;34m\u001b[0m\u001b[0;34m\u001b[0m\u001b[0m\n\u001b[1;32m   1344\u001b[0m                                    accept_large_sparse=solver != 'liblinear')\n\u001b[0;32m-> 1345\u001b[0;31m         \u001b[0mcheck_classification_targets\u001b[0m\u001b[0;34m(\u001b[0m\u001b[0my\u001b[0m\u001b[0;34m)\u001b[0m\u001b[0;34m\u001b[0m\u001b[0;34m\u001b[0m\u001b[0m\n\u001b[0m\u001b[1;32m   1346\u001b[0m         \u001b[0mself\u001b[0m\u001b[0;34m.\u001b[0m\u001b[0mclasses_\u001b[0m \u001b[0;34m=\u001b[0m \u001b[0mnp\u001b[0m\u001b[0;34m.\u001b[0m\u001b[0munique\u001b[0m\u001b[0;34m(\u001b[0m\u001b[0my\u001b[0m\u001b[0;34m)\u001b[0m\u001b[0;34m\u001b[0m\u001b[0;34m\u001b[0m\u001b[0m\n\u001b[1;32m   1347\u001b[0m \u001b[0;34m\u001b[0m\u001b[0m\n",
      "\u001b[0;32m~/opt/anaconda3/lib/python3.8/site-packages/sklearn/utils/multiclass.py\u001b[0m in \u001b[0;36mcheck_classification_targets\u001b[0;34m(y)\u001b[0m\n\u001b[1;32m    170\u001b[0m     if y_type not in ['binary', 'multiclass', 'multiclass-multioutput',\n\u001b[1;32m    171\u001b[0m                       'multilabel-indicator', 'multilabel-sequences']:\n\u001b[0;32m--> 172\u001b[0;31m         \u001b[0;32mraise\u001b[0m \u001b[0mValueError\u001b[0m\u001b[0;34m(\u001b[0m\u001b[0;34m\"Unknown label type: %r\"\u001b[0m \u001b[0;34m%\u001b[0m \u001b[0my_type\u001b[0m\u001b[0;34m)\u001b[0m\u001b[0;34m\u001b[0m\u001b[0;34m\u001b[0m\u001b[0m\n\u001b[0m\u001b[1;32m    173\u001b[0m \u001b[0;34m\u001b[0m\u001b[0m\n\u001b[1;32m    174\u001b[0m \u001b[0;34m\u001b[0m\u001b[0m\n",
      "\u001b[0;31mValueError\u001b[0m: Unknown label type: 'continuous'"
     ]
    }
   ],
   "source": [
    "# 訓練模型\n",
    "logreg.fit(x_train, y_train)\n",
    "\n",
    "# 預測測試集\n",
    "y_pred = logreg.predict(x_test)"
   ]
  },
  {
   "cell_type": "code",
   "execution_count": null,
   "metadata": {},
   "outputs": [],
   "source": []
  }
 ],
 "metadata": {
  "kernelspec": {
   "display_name": "Python 3",
   "language": "python",
   "name": "python3"
  },
  "language_info": {
   "codemirror_mode": {
    "name": "ipython",
    "version": 3
   },
   "file_extension": ".py",
   "mimetype": "text/x-python",
   "name": "python",
   "nbconvert_exporter": "python",
   "pygments_lexer": "ipython3",
   "version": "3.8.5"
  }
 },
 "nbformat": 4,
 "nbformat_minor": 4
}
